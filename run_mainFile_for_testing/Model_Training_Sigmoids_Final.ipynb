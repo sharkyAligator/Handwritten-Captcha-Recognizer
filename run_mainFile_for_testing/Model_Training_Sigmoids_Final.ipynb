{
  "nbformat": 4,
  "nbformat_minor": 0,
  "metadata": {
    "colab": {
      "name": "Model Training_Sigmoids.ipynb",
      "provenance": [],
      "collapsed_sections": []
    },
    "kernelspec": {
      "name": "python3",
      "display_name": "Python 3"
    },
    "language_info": {
      "name": "python"
    }
  },
  "cells": [
    {
      "cell_type": "code",
      "execution_count": null,
      "metadata": {
        "id": "s9G48PJkNBI2"
      },
      "outputs": [],
      "source": [
        "import torch\n",
        "import torch.nn as nn\n",
        "import torchvision \n",
        "import numpy as nm\n",
        "from torch.autograd import Variable\n",
        "from torch.utils.data import DataLoader\n",
        "import torchvision.transforms as transforms\n",
        "from sklearn.model_selection import train_test_split  \n",
        "from tqdm import tqdm\n",
        "from skimage.transform import rotate\n",
        "from skimage.util import random_noise\n",
        "from skimage.filters import gaussian"
      ]
    },
    {
      "cell_type": "code",
      "source": [
        "from google.colab import drive\n",
        "drive.mount('/content/drive')\n",
        "\n",
        "!pip install unrar"
      ],
      "metadata": {
        "colab": {
          "base_uri": "https://localhost:8080/"
        },
        "id": "tHLxVjgoNHnK",
        "outputId": "525392f2-5b17-4868-b228-1036acbb535d"
      },
      "execution_count": null,
      "outputs": [
        {
          "output_type": "stream",
          "name": "stdout",
          "text": [
            "Drive already mounted at /content/drive; to attempt to forcibly remount, call drive.mount(\"/content/drive\", force_remount=True).\n",
            "Collecting unrar\n",
            "  Downloading unrar-0.4-py3-none-any.whl (25 kB)\n",
            "Installing collected packages: unrar\n",
            "Successfully installed unrar-0.4\n"
          ]
        }
      ]
    },
    {
      "cell_type": "code",
      "source": [
        "!unrar x '/content/drive/MyDrive/mos_data_final_1_aj.rar'"
      ],
      "metadata": {
        "id": "iHQR1ZrANNdC"
      },
      "execution_count": null,
      "outputs": []
    },
    {
      "cell_type": "code",
      "source": [
        "# Comment 0: define transformation that you wish to apply on image\n",
        "transform = torchvision.transforms.Compose([torchvision.transforms.Resize(size=(32,32)),\n",
        "                                            torchvision.transforms.ToTensor(),\n",
        "                                            torchvision.transforms.Normalize((0, 0, 0), (1, 1, 1))])\n",
        "\n",
        "\n",
        "import os\n",
        "\n",
        "os.environ[\"TF_CPP_MIN_LOG_LEVEL\"] = \"2\"\n",
        "import tensorflow as tf\n",
        "from tensorflow import keras\n",
        "from tensorflow.keras import datasets, layers, models\n",
        "from tensorflow.keras.preprocessing.image import ImageDataGenerator\n",
        "\n",
        "img_height = 28\n",
        "img_width = 28\n",
        "batch_size = 10\n",
        "\n",
        "\n",
        "# ==================================================== #\n",
        "ds_train = tf.keras.preprocessing.image_dataset_from_directory(\n",
        "    \"/content/mos_data_final_1/training\",\n",
        "    labels=\"inferred\",\n",
        "    label_mode=\"int\",  # categorical, binary\n",
        "    \n",
        "    color_mode=\"grayscale\",\n",
        "    batch_size=batch_size,\n",
        "    image_size=(img_height, img_width),  # reshape if not in this size\n",
        "    shuffle=True,\n",
        "    seed=123,\n",
        "    validation_split=0.15,\n",
        "    subset=\"training\",\n",
        ")\n",
        "\n",
        "ds_validation = tf.keras.preprocessing.image_dataset_from_directory(\n",
        "    \"/content/mos_data_final_1/training\",\n",
        "    labels=\"inferred\",\n",
        "    label_mode=\"int\",  # categorical, binary\n",
        "    \n",
        "    color_mode=\"grayscale\",\n",
        "    batch_size=batch_size,\n",
        "    image_size=(img_height, img_width),  # reshape if not in this size\n",
        "    shuffle=True,\n",
        "    seed=123,\n",
        "    validation_split=0.15,\n",
        "    subset=\"validation\",\n",
        ")\n",
        "\n",
        "\n"
      ],
      "metadata": {
        "colab": {
          "base_uri": "https://localhost:8080/"
        },
        "id": "M4DmFzr1N9ZZ",
        "outputId": "67697aa4-93c4-418d-9674-5ae0ec8083ce"
      },
      "execution_count": null,
      "outputs": [
        {
          "output_type": "stream",
          "name": "stdout",
          "text": [
            "Found 58188 files belonging to 26 classes.\n",
            "Using 49460 files for training.\n",
            "Found 58188 files belonging to 26 classes.\n",
            "Using 8728 files for validation.\n"
          ]
        }
      ]
    },
    {
      "cell_type": "code",
      "source": [
        ""
      ],
      "metadata": {
        "id": "CmlHk3cZVFG-"
      },
      "execution_count": null,
      "outputs": []
    },
    {
      "cell_type": "code",
      "source": [
        "#CNN model \n",
        "\n",
        "\n",
        "import tensorflow as tf\n",
        "import matplotlib.pyplot as plt\n",
        "import numpy as np\n",
        "\n",
        "cnn = models.Sequential([\n",
        "    layers.Conv2D(filters=2, kernel_size=(3, 3), activation='relu', input_shape=(28, 28, 1)),\n",
        "    layers.MaxPooling2D(pool_size=(2, 2), strides=1),\n",
        "    \n",
        "    layers.Conv2D(filters=4, kernel_size=(3, 3), activation='relu'),\n",
        "    layers.MaxPooling2D(pool_size=(2, 2), strides=1),\n",
        "\n",
        "    layers.Conv2D(filters=18, kernel_size=(3, 3), activation='relu'),\n",
        "    layers.MaxPooling2D(pool_size=(2, 2), strides=1),\n",
        "\n",
        "    layers.Conv2D(filters=16, kernel_size=(3, 3), activation='relu'),\n",
        "    layers.MaxPooling2D(pool_size=(2, 2), strides=1),\n",
        "\n",
        "    layers.Conv2D(filters=32, kernel_size=(3, 3), activation='relu'),\n",
        "    layers.MaxPooling2D(pool_size=(2, 2), strides=1),\n",
        "\n",
        "    layers.Conv2D(filters=64, kernel_size=(3, 3), activation='relu'),\n",
        "    layers.MaxPooling2D(pool_size=(2, 2), strides=1),\n",
        "    \n",
        "    layers.Flatten(),\n",
        "    layers.Dense(64, activation='relu'),\n",
        "    layers.Dense(26, activation='softmax')\n",
        "])\n",
        "\n"
      ],
      "metadata": {
        "id": "Z0urM21vSd1u"
      },
      "execution_count": null,
      "outputs": []
    },
    {
      "cell_type": "code",
      "source": [
        "cnn.compile(optimizer='adagrad',loss='sparse_categorical_crossentropy',metrics=['accuracy']) #compiling our model"
      ],
      "metadata": {
        "id": "YDFtndXRT3sg"
      },
      "execution_count": null,
      "outputs": []
    },
    {
      "cell_type": "code",
      "source": [
        "cnn.fit(ds_train, validation_data=ds_validation, epochs=10) #training our model"
      ],
      "metadata": {
        "colab": {
          "base_uri": "https://localhost:8080/"
        },
        "id": "fnEGvySNT5sj",
        "outputId": "10592b21-e3bc-4bcf-c2d2-c75e9b436bf5"
      },
      "execution_count": null,
      "outputs": [
        {
          "output_type": "stream",
          "name": "stdout",
          "text": [
            "Epoch 1/10\n",
            "4946/4946 [==============================] - 194s 39ms/step - loss: 1.5308 - accuracy: 0.5710 - val_loss: 0.8470 - val_accuracy: 0.7557\n",
            "Epoch 2/10\n",
            "4946/4946 [==============================] - 211s 43ms/step - loss: 0.6830 - accuracy: 0.8007 - val_loss: 0.6239 - val_accuracy: 0.8153\n",
            "Epoch 3/10\n",
            "4946/4946 [==============================] - 195s 39ms/step - loss: 0.5249 - accuracy: 0.8451 - val_loss: 0.5432 - val_accuracy: 0.8381\n",
            "Epoch 4/10\n",
            "4946/4946 [==============================] - 201s 41ms/step - loss: 0.4422 - accuracy: 0.8706 - val_loss: 0.4878 - val_accuracy: 0.8540\n",
            "Epoch 5/10\n",
            "4946/4946 [==============================] - 198s 40ms/step - loss: 0.3879 - accuracy: 0.8857 - val_loss: 0.4511 - val_accuracy: 0.8648\n",
            "Epoch 6/10\n",
            "4946/4946 [==============================] - 194s 39ms/step - loss: 0.3476 - accuracy: 0.8986 - val_loss: 0.4254 - val_accuracy: 0.8744\n",
            "Epoch 7/10\n",
            "4946/4946 [==============================] - 196s 40ms/step - loss: 0.3171 - accuracy: 0.9074 - val_loss: 0.4034 - val_accuracy: 0.8829\n",
            "Epoch 8/10\n",
            "4946/4946 [==============================] - 209s 42ms/step - loss: 0.2927 - accuracy: 0.9160 - val_loss: 0.3896 - val_accuracy: 0.8859\n",
            "Epoch 9/10\n",
            "4946/4946 [==============================] - 216s 44ms/step - loss: 0.2725 - accuracy: 0.9227 - val_loss: 0.3737 - val_accuracy: 0.8904\n",
            "Epoch 10/10\n",
            "4946/4946 [==============================] - 209s 42ms/step - loss: 0.2552 - accuracy: 0.9273 - val_loss: 0.3633 - val_accuracy: 0.8960\n"
          ]
        },
        {
          "output_type": "execute_result",
          "data": {
            "text/plain": [
              "<keras.callbacks.History at 0x7f743cded250>"
            ]
          },
          "metadata": {},
          "execution_count": 11
        }
      ]
    },
    {
      "cell_type": "code",
      "source": [
        "cnn.evaluate(ds_train) #evaluating the model"
      ],
      "metadata": {
        "colab": {
          "base_uri": "https://localhost:8080/"
        },
        "id": "SgTZmHutXmff",
        "outputId": "f6fb4d1e-5487-4783-97cd-0c7e5e37b574"
      },
      "execution_count": null,
      "outputs": [
        {
          "output_type": "stream",
          "name": "stdout",
          "text": [
            "4946/4946 [==============================] - 65s 13ms/step - loss: 0.2505 - accuracy: 0.9275\n"
          ]
        },
        {
          "output_type": "execute_result",
          "data": {
            "text/plain": [
              "[0.2504798173904419, 0.9274969696998596]"
            ]
          },
          "metadata": {},
          "execution_count": 12
        }
      ]
    },
    {
      "cell_type": "code",
      "source": [
        "cnn.save(\"model1.h5\") #model saved as .h5 file"
      ],
      "metadata": {
        "id": "CfTb2mzgp2IV"
      },
      "execution_count": null,
      "outputs": []
    },
    {
      "cell_type": "markdown",
      "source": [
        "------------------------------Model making process completed------------------------------------------"
      ],
      "metadata": {
        "id": "zoHGk6gRoYUN"
      }
    }
  ]
}